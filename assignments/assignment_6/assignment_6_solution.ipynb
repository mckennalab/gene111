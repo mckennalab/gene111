{
 "cells": [
  {
   "cell_type": "markdown",
   "metadata": {},
   "source": [
    "## Assignment #6 - the final assignment\n",
    "\n",
    "Here we're going to go through the full Viterbi algorithm for finding CpG islands in the genome. You'll need to have the 'chr21.fa.gz' file and the 'cpg_genome.bed' file in the same directory or change the corresponding paths below. \n",
    "\n",
    "Most of the assignment is pre-programmed, building up to our final application of the HMM here. The code you need to fill in is inside the code block with the <font color='red'>RED header</font> text."
   ]
  },
  {
   "cell_type": "markdown",
   "metadata": {},
   "source": [
    "#### First, a quick utility function to print a matrix"
   ]
  },
  {
   "cell_type": "code",
   "execution_count": 1,
   "metadata": {
    "slideshow": {
     "slide_type": "skip"
    }
   },
   "outputs": [],
   "source": [
    "def pretty_print(seq_A, seq_B, dp_matrix,pad=6,round_to=3):\n",
    "    '''\n",
    "    a new pretty print that allows is more more flexible formatting options\n",
    "    '''\n",
    "    print(\"\".join([letter_in_B.rjust(pad) for letter_in_B in seq_B]))\n",
    "\n",
    "    for row_label, row in zip(seq_A, dp_matrix):\n",
    "        print(row_label + \"\".join([str(round(mat_value,round_to)).rjust(pad) for mat_value in row]))\n"
   ]
  },
  {
   "cell_type": "markdown",
   "metadata": {
    "slideshow": {
     "slide_type": "slide"
    }
   },
   "source": [
    "## Background distributions\n",
    "\n",
    "- Lets use the A/C/G/T distribution in and out of CpG islands as our emissions\n",
    "\n",
    "- Very simple, but as you'll see, it works suprizingly well (why?)\n"
   ]
  },
  {
   "cell_type": "code",
   "execution_count": 2,
   "metadata": {},
   "outputs": [],
   "source": [
    "import gzip # use the gzip library in our project\n",
    "\n",
    "chromosome_21_sequence = \"\" # this variable stores our chromsome 21 sequence\n",
    "\n",
    "with gzip.open('chr21.fa.gz', 'rt') as chromosome_file: \n",
    "    header = chromosome_file.readline() \n",
    "    \n",
    "    for line in chromosome_file:\n",
    "        chromosome_21_sequence += line.strip()\n",
    "\n",
    "# save ourselves a headache when we run into lower and uppercase letters\n",
    "chromosome_21_sequence = chromosome_21_sequence.upper()"
   ]
  },
  {
   "cell_type": "code",
   "execution_count": 3,
   "metadata": {},
   "outputs": [
    {
     "name": "stdout",
     "output_type": "stream",
     "text": [
      "46709983\n"
     ]
    }
   ],
   "source": [
    "print(len(chromosome_21_sequence))"
   ]
  },
  {
   "cell_type": "markdown",
   "metadata": {
    "slideshow": {
     "slide_type": "slide"
    }
   },
   "source": [
    "## Now lets see how dinucleotide proportions look across the chromosome:"
   ]
  },
  {
   "cell_type": "code",
   "execution_count": 4,
   "metadata": {},
   "outputs": [],
   "source": [
    "import numpy as np\n",
    "\n",
    "# a matrix of our emissions\n",
    "emissions_global = np.zeros((5,5), np.int64)\n",
    "\n",
    "# a function to convert a base to an array index\n",
    "def base_to_index(base):\n",
    "    if base == 'A':\n",
    "        return 0\n",
    "    elif base == 'C':\n",
    "        return 1\n",
    "    elif base == 'G':\n",
    "        return 2\n",
    "    elif base == 'T':\n",
    "        return 3\n",
    "    return 4 # catch all the other bases here\n",
    "\n",
    "for index in range(0,len(chromosome_21_sequence) - 2):\n",
    "    dinuc = chromosome_21_sequence[index:index + 2]\n",
    "    index_1 = base_to_index(dinuc[0])\n",
    "    index_2 = base_to_index(dinuc[1])\n",
    "    emissions_global[index_1,index_2] += 1"
   ]
  },
  {
   "cell_type": "markdown",
   "metadata": {
    "slideshow": {
     "slide_type": "slide"
    }
   },
   "source": [
    "## How dinucleotide proportions look across chromosome 21"
   ]
  },
  {
   "cell_type": "code",
   "execution_count": 5,
   "metadata": {},
   "outputs": [
    {
     "name": "stdout",
     "output_type": "stream",
     "text": [
      "         A         C         G         T         N\n",
      "A   3915117   2038442   2774777   3092310        18\n",
      "C   2921760   2043408    462299   2757749        28\n",
      "G   2420557   1705746   2062676   2037399         3\n",
      "T   2563211   2397643   2926603   3968871         2\n",
      "N        19         5        26         1   6621311\n"
     ]
    }
   ],
   "source": [
    "pretty_print(\"ACGTN\",\"ACGTN\", emissions_global,10)"
   ]
  },
  {
   "cell_type": "markdown",
   "metadata": {},
   "source": [
    "#### Normalize by total counts:"
   ]
  },
  {
   "cell_type": "code",
   "execution_count": 6,
   "metadata": {},
   "outputs": [],
   "source": [
    "total_sum = emissions_global.sum() # axis=1\n",
    "emissions_global_normalized = emissions_global / total_sum\n"
   ]
  },
  {
   "cell_type": "markdown",
   "metadata": {
    "slideshow": {
     "slide_type": "slide"
    }
   },
   "source": [
    "## Do we see the effect of CpG -> TpG?"
   ]
  },
  {
   "cell_type": "code",
   "execution_count": 7,
   "metadata": {},
   "outputs": [
    {
     "name": "stdout",
     "output_type": "stream",
     "text": [
      "     A     C     G     T     N\n",
      "A 0.084 0.044 0.059 0.066   0.0\n",
      "C 0.063 0.044  0.01 0.059   0.0\n",
      "G 0.052 0.037 0.044 0.044   0.0\n",
      "T 0.055 0.051 0.063 0.085   0.0\n",
      "N   0.0   0.0   0.0   0.0 0.142\n"
     ]
    }
   ],
   "source": [
    "pretty_print(\"ACGTN\",\"ACGTN\", emissions_global_normalized)"
   ]
  },
  {
   "cell_type": "markdown",
   "metadata": {
    "slideshow": {
     "slide_type": "slide"
    }
   },
   "source": [
    "## Now load up known CpGs to get a background nucleotide frequency model for CpG regions\n"
   ]
  },
  {
   "cell_type": "code",
   "execution_count": 8,
   "metadata": {},
   "outputs": [],
   "source": [
    "## What if we look only at CpG islands?\n",
    "cpg_only_emissions = np.zeros((5,5), np.int64)\n",
    "cpg_pairs = []\n",
    "\n",
    "with open(\"chr21_cpg_locations_ucsc.bed\") as cpg_file:\n",
    "    for line in cpg_file:\n",
    "        start_position = int(line.split(\"\\t\")[1])\n",
    "        end_position =   int(line.split(\"\\t\")[2])\n",
    "        cpg_pairs.append([start_position,end_position])\n",
    "        for index in range(start_position,end_position - 1):\n",
    "            dinuc = chromosome_21_sequence[index:index + 2]\n",
    "            index_1 = base_to_index(dinuc[0])\n",
    "            index_2 = base_to_index(dinuc[1])\n",
    "            cpg_only_emissions[index_1,index_2] += 1\n",
    "            "
   ]
  },
  {
   "cell_type": "markdown",
   "metadata": {
    "slideshow": {
     "slide_type": "slide"
    }
   },
   "source": [
    "## Our emissions for CpGs"
   ]
  },
  {
   "cell_type": "code",
   "execution_count": 9,
   "metadata": {},
   "outputs": [
    {
     "name": "stdout",
     "output_type": "stream",
     "text": [
      "     A     C     G     T     N\n",
      "A 0.025 0.042 0.059 0.017   0.0\n",
      "C 0.054 0.126 0.101 0.062   0.0\n",
      "G 0.052 0.117 0.121 0.046   0.0\n",
      "T 0.012 0.057 0.057 0.031   0.0\n",
      "N   0.0   0.0   0.0   0.0  0.02\n"
     ]
    }
   ],
   "source": [
    "total_sum = cpg_only_emissions.sum()\n",
    "cpg_only_emissions_normalized = cpg_only_emissions / total_sum\n",
    "pretty_print(\"ACGTN\",\"ACGTN\", cpg_only_emissions_normalized)"
   ]
  },
  {
   "cell_type": "markdown",
   "metadata": {
    "slideshow": {
     "slide_type": "slide"
    }
   },
   "source": [
    "## Create just a per-base (not dinucleotide) emission probability\n",
    "\n"
   ]
  },
  {
   "cell_type": "code",
   "execution_count": 10,
   "metadata": {},
   "outputs": [
    {
     "name": "stdout",
     "output_type": "stream",
     "text": [
      "[0.14557031 0.35065711 0.34365213 0.16012045]\n",
      "[0.29486326 0.20417831 0.20520508 0.29575334]\n"
     ]
    }
   ],
   "source": [
    "# lets simply our emissions -- (why? think about it a little...) \n",
    "per_base_cpg = cpg_only_emissions[0:4,0:4].sum(axis=1)/cpg_only_emissions[0:4,0:4].sum()\n",
    "per_base_not = emissions_global[0:4,0:4].sum(axis=1)/emissions_global[0:4,0:4].sum()\n",
    "\n",
    "print(per_base_cpg)\n",
    "print(per_base_not)"
   ]
  },
  {
   "cell_type": "markdown",
   "metadata": {
    "slideshow": {
     "slide_type": "slide"
    }
   },
   "source": [
    "# Transition probabilities\n",
    "\n",
    "- Intuition: how often (in nucleotides) do we think we'll want to switch underlying states? \n",
    "- Relatively how often do the states occur? 10% CpG islands? 50%? 99%?"
   ]
  },
  {
   "cell_type": "code",
   "execution_count": 11,
   "metadata": {},
   "outputs": [
    {
     "name": "stdout",
     "output_type": "stream",
     "text": [
      "       C       N\n",
      "C  0.9999  0.0001\n",
      "N   1e-05 0.99999\n"
     ]
    }
   ],
   "source": [
    "transition_props = np.array([[0.9999,0.0001],[0.00001,0.99999]])\n",
    "pretty_print(\"CN\", \"CN\", transition_props,pad=8,round_to=5)"
   ]
  },
  {
   "cell_type": "markdown",
   "metadata": {
    "slideshow": {
     "slide_type": "slide"
    }
   },
   "source": [
    "# Log transform the emission and transition values ahead of time\n",
    "\n"
   ]
  },
  {
   "cell_type": "code",
   "execution_count": 12,
   "metadata": {},
   "outputs": [],
   "source": [
    "per_base_cpg_log = np.log10(per_base_cpg)\n",
    "per_base_not_log = np.log10(per_base_not)\n",
    "transition_log = np.log10(transition_props)\n"
   ]
  },
  {
   "cell_type": "markdown",
   "metadata": {},
   "source": [
    "# Subset to just a 1 million basepair region of Chromosome 21 (9M-10M)"
   ]
  },
  {
   "cell_type": "code",
   "execution_count": 13,
   "metadata": {},
   "outputs": [
    {
     "name": "stdout",
     "output_type": "stream",
     "text": [
      "(2, 1000000)\n"
     ]
    }
   ],
   "source": [
    "# lets keep it light and breezy, and do just 9M-10M of Chr21...\n",
    "chr21_9m_to_10m = chromosome_21_sequence[9000000:10000000]\n",
    "\n",
    "np.random.seed(0) # make sure the random.choice function always chooses the same sequence of random bases below\n",
    "\n",
    "# clean out any non ACGT bases\n",
    "chr21_9m_to_10m = [x if x in \"ACGT\" else np.random.choice([\"A\",\"C\",\"G\",\"T\"]) for x in chr21_9m_to_10m]\n",
    "\n",
    "# a 2 row X 1M row matrix - we'll \n",
    "hmm_model = np.ones((2,len(chr21_9m_to_10m)))\n",
    "hmm_model_traceaback = np.ones((2,len(chr21_9m_to_10m)),np.int64)\n",
    "\n",
    "print(hmm_model.shape)"
   ]
  },
  {
   "cell_type": "markdown",
   "metadata": {
    "slideshow": {
     "slide_type": "slide"
    }
   },
   "source": [
    "## setup the first column\n",
    "\n",
    "- The first column is the transition from the start to each state\n"
   ]
  },
  {
   "cell_type": "code",
   "execution_count": 14,
   "metadata": {},
   "outputs": [],
   "source": [
    "# some assumed probabilities\n",
    "hmm_model[0,0] = np.log10([0.1]) + per_base_cpg_log[base_to_index(chr21_9m_to_10m[0])]\n",
    "hmm_model[1,0] = np.log10([0.9]) + per_base_not_log[base_to_index(chr21_9m_to_10m[0])]\n",
    "\n",
    "# we're coming from the non-CPG state\n",
    "hmm_model_traceaback[0,0] = 1\n",
    "hmm_model_traceaback[1,0] = 1"
   ]
  },
  {
   "cell_type": "markdown",
   "metadata": {
    "slideshow": {
     "slide_type": "slide"
    }
   },
   "source": [
    "# <font color='red'>Fill in the rest of the matrix</font> - 8 points\n",
    "\n",
    "#### Step 1: Fill in best_weight_and_previous_score_to_CpG and best_weight_and_previous_score_to_NOT_CpG:\n",
    "\n",
    "Here we'll fill in correct values need in the update proceedure of our HMM. The <font color='blue'>best_weight_and_previous_score_to_CpG</font> variable we need to fill in represents the maximum value of two possible conditions:\n",
    "\n",
    "- (1.1) the log transition probability from a __CpG__ state to this __CpG__ state, added (as we're in log space) to the score at that previous __CpG__ entry in our matrix\n",
    "- (1.2.) the log transition probability from a __non-CpG__ state to this __CpG__ state, added (as we're in log space) to the score at that previous __non-CpG__ entry in our matrix\n",
    "\n",
    "The <font color='blue'>best_weight_and_previous_score_to_NOT_CpG</font> is the same process but for __transitioning to the non-CpG state__ in our current column i. \n",
    "\n",
    "As a reminder the ```np.max([list_value1, list_value2, etc])``` function finds you the maximum value from a list of numbers. \n"
   ]
  },
  {
   "cell_type": "markdown",
   "metadata": {},
   "source": [
    " "
   ]
  },
  {
   "cell_type": "markdown",
   "metadata": {},
   "source": [
    "#### Step 2: Fill in the second two values, hmm_model_traceaback for 0,i and 1,i:\n",
    "\n",
    "- (2.1.) The same best score calculation from 1.1 above. This does not include the emission probabilities we add later on\n",
    "- (2.2) The same best score calculationfrom 1.2 above. This does not include the emission probabilities we add later on\n",
    "\n",
    "Consider using the ```np.argmax([list_value1, list_value2, etc])``` function finds you the __index__ (which state we are transitioning from) of the maximum value from a list of numbers. \n"
   ]
  },
  {
   "cell_type": "markdown",
   "metadata": {},
   "source": [
    " "
   ]
  },
  {
   "cell_type": "code",
   "execution_count": 15,
   "metadata": {},
   "outputs": [],
   "source": [
    "for i in range(1,len(chr21_9m_to_10m)):\n",
    "    cpg_emission_of_this_base     = per_base_cpg_log[base_to_index(chr21_9m_to_10m[i])]\n",
    "    not_cpg_emission_of_this_base = per_base_not_log[base_to_index(chr21_9m_to_10m[i])]\n",
    "    \n",
    "    transition_cost_to_cpg     = np.max([hmm_model[0,i-1] + transition_log[0,0],\n",
    "                                         hmm_model[1,i-1] + transition_log[0,1]])\n",
    "    \n",
    "    transition_cost_to_non_cpg = np.max([hmm_model[0,i-1] + transition_log[1,0],\n",
    "                                         hmm_model[1,i-1] + transition_log[1,1]])\n",
    "    \n",
    "    hmm_model[0,i] = transition_cost_to_cpg     + cpg_emission_of_this_base\n",
    "    hmm_model[1,i] = transition_cost_to_non_cpg + not_cpg_emission_of_this_base\n",
    "    \n",
    "    hmm_model_traceaback[0,i] = np.argmax([hmm_model[0,i-1] + transition_log[0,0],\n",
    "                                           hmm_model[1,i-1] + transition_log[0,1]])\n",
    "    \n",
    "    hmm_model_traceaback[1,i] = np.argmax([hmm_model[0,i-1] + transition_log[1,0],\n",
    "                                           hmm_model[1,i-1] + transition_log[1,1]])"
   ]
  },
  {
   "cell_type": "markdown",
   "metadata": {
    "slideshow": {
     "slide_type": "slide"
    }
   },
   "source": [
    "## Output the tail end of the matrix to see our probabilties"
   ]
  },
  {
   "cell_type": "code",
   "execution_count": 16,
   "metadata": {},
   "outputs": [
    {
     "name": "stdout",
     "output_type": "stream",
     "text": [
      "[-596143.28760461 -596144.08320125 -596144.51543764 -596145.31103428\n",
      " -596145.72356494]\n",
      "[-596139.522482   -596140.05155668 -596140.73937291 -596141.26844759\n",
      " -596141.95844233]\n"
     ]
    }
   ],
   "source": [
    "# just some of the final cells you can compare against\n",
    "# if you overwrite this cell you can look at the results on github\n",
    "print(hmm_model[0,-5:])\n",
    "print(hmm_model[1,-5:])\n"
   ]
  },
  {
   "cell_type": "markdown",
   "metadata": {
    "slideshow": {
     "slide_type": "slide"
    }
   },
   "source": [
    "# Traceback to test how we're doing\n"
   ]
  },
  {
   "cell_type": "code",
   "execution_count": 17,
   "metadata": {},
   "outputs": [
    {
     "name": "stdout",
     "output_type": "stream",
     "text": [
      "(array([0, 1]), array([ 75560, 924440]))\n",
      "\n",
      "We switched states: 86 times\n"
     ]
    }
   ],
   "source": [
    "# find the maximal score in the final column\n",
    "final_max = np.argmax([hmm_model[:,-1]])\n",
    "\n",
    "# create a matrix to store the maximal path back through the HMM\n",
    "state_path = np.zeros((len(chr21_9m_to_10m)),np.int64)\n",
    "\n",
    "# We also want to know how many times we've transitioned between\n",
    "# the two hidden states (we're curious..). Keep track of that here:\n",
    "row_pointer = final_max\n",
    "switch = 0\n",
    "\n",
    "# how fill in the traceback matrix going from the end of the matrix\n",
    "# to the begining (the final -1 step). We update which state (row) we got\n",
    "# our best score from, and then move to the previous column using that\n",
    "# row's trackback value.\n",
    "for i in range(len(chr21_9m_to_10m)-1,0,-1):\n",
    "    state_path[i] = row_pointer\n",
    "    if hmm_model_traceaback[row_pointer,i] != row_pointer:\n",
    "        switch += 1\n",
    "    row_pointer = hmm_model_traceaback[row_pointer,i]\n",
    "\n",
    "# print how many of each state (0 == CpG, 1 == not) we found\n",
    "print(np.unique(state_path,return_counts=True))\n",
    "\n",
    "# print how many times we switched between states\n",
    "print(\"\\nWe switched states: \" + str(switch) + \" times\")"
   ]
  },
  {
   "cell_type": "markdown",
   "metadata": {},
   "source": [
    "# Output a confusion matrix and accuracy for our model"
   ]
  },
  {
   "cell_type": "code",
   "execution_count": 18,
   "metadata": {},
   "outputs": [
    {
     "name": "stdout",
     "output_type": "stream",
     "text": [
      "       CpG       not\n",
      "True     4881.0      35.0\n",
      "False   70679.0  924405.0\n",
      "\n",
      "accuracy : 0.929286\n",
      "\n",
      "positive predictive value (PPV): 0.06459767072525145\n"
     ]
    }
   ],
   "source": [
    "confusion_matrix = np.zeros((2,2))\n",
    "\n",
    "truth_array = np.ones((len(chr21_9m_to_10m)),np.int64)\n",
    "\n",
    "for x in cpg_pairs:\n",
    "    if x[0]  > 9000000 and x[1] < 10000000:\n",
    "        truth_array[x[0] - 9000000:x[1] - 9000000] = 0\n",
    "\n",
    "for i in range(0,len(chr21_9m_to_10m)):\n",
    "    confusion_matrix[truth_array[i],state_path[i]] += 1\n",
    "\n",
    "pretty_print([\"True \",\"False\"], [\"CpG\",\"not\"], confusion_matrix,pad=10,round_to=5)\n",
    "\n",
    "print(\"\\naccuracy : \" + str((confusion_matrix[0,0]+confusion_matrix[1,1])/confusion_matrix.sum()))\n",
    "\n",
    "print(\"\\npositive predictive value (PPV): \" + str(confusion_matrix[0,0]/(confusion_matrix[0,0]++confusion_matrix[1,0])))"
   ]
  },
  {
   "cell_type": "markdown",
   "metadata": {},
   "source": [
    "Well talk about this in the next class, but this is... decent. The accuracy is high, though with class imbalance this isn't the best measure. PPV is pretty low (you wouldn't want to 'diagnose' a patient with a CpG), but again this is a very rough cut of a model. You're done!\n",
    "\n"
   ]
  },
  {
   "cell_type": "code",
   "execution_count": null,
   "metadata": {},
   "outputs": [],
   "source": []
  },
  {
   "cell_type": "code",
   "execution_count": null,
   "metadata": {},
   "outputs": [],
   "source": []
  }
 ],
 "metadata": {
  "kernelspec": {
   "display_name": "Python 3",
   "language": "python",
   "name": "python3"
  },
  "language_info": {
   "codemirror_mode": {
    "name": "ipython",
    "version": 3
   },
   "file_extension": ".py",
   "mimetype": "text/x-python",
   "name": "python",
   "nbconvert_exporter": "python",
   "pygments_lexer": "ipython3",
   "version": "3.6.10"
  }
 },
 "nbformat": 4,
 "nbformat_minor": 4
}
