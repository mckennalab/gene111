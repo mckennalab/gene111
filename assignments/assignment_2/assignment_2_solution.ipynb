{
 "cells": [
  {
   "cell_type": "markdown",
   "metadata": {},
   "source": [
    "## Assignment 2 - genome composition\n",
    "\n",
    "Today we're going to do two things:\n",
    "- Calculate basic genome information for a chromesome. We'll look at its length, the GC content, etc (4 points)\n",
    "- Basic string searches (4 points) \n"
   ]
  },
  {
   "cell_type": "markdown",
   "metadata": {},
   "source": [
    "### Part 1: Genome composition \n",
    "\n",
    "Lets take a look at chromosome 21 (chr21), the smallest chromosome in the human genome. You can download the sequence from here:\n",
    "    \n",
    "https://hgdownload.soe.ucsc.edu/goldenPath/hg38/chromosomes/\n",
    "    \n",
    "Or the direct link: [Chromosome 21 gzipped](https://hgdownload.soe.ucsc.edu/goldenPath/hg38/chromosomes/chr21.fa.gz)\n",
    "    \n",
    "This file is compressed using the GZIP tool. You can uncompress it if you'd like to take a peek, but we'll assume through the rest of the assignment that you've kept it compressed. Now we'd like to know a bit about this chromosome, specifically what is it's length, what's the GC content, and eventually where specific sequences we're interested in reside. "
   ]
  },
  {
   "cell_type": "markdown",
   "metadata": {},
   "source": [
    "### Opening a compressed file in python\n",
    "\n",
    "We'll open chr21 as a compressed file and save it's contents to a variable we can play around with. The first few lines of the chr21 fasta file look like:"
   ]
  },
  {
   "cell_type": "raw",
   "metadata": {},
   "source": [
    ">chr21\n",
    "NNNNNNNNNNNNNNNNNNNNNNNNNNNNNNNNNNNNNNNNNNNNNNNNNN\n",
    "NNNNNNNNNNNNNNNNNNNNNNNNNNNNNNNNNNNNNNNNNNNNNNNNNN\n",
    "NNNNNNNNNNNNNNNNNNNNNNNNNNNNNNNNNNNNNNNNNNNNNNNNNN\n",
    "NNNNNNNNNNNNNNNNNNNNNNNNNNNNNNNNNNNNNNNNNNNNNNNNNN\n",
    "NNNNNNNNNNNNNNNNNNNNNNNNNNNNNNNNNNNNNNNNNNNNNNNNNN\n",
    "NNNNNNNNNNNNNNNNNNNNNNNNNNNNNNNNNNNNNNNNNNNNNNNNNN\n",
    "NNNNNNNNNNNNNNNNNNNNNNNNNNNNNNNNNNNNNNNNNNNNNNNNNN\n",
    "NNNNNNNNNNNNNNNNNNNNNNNNNNNNNNNNNNNNNNNNNNNNNNNNNN\n"
   ]
  },
  {
   "cell_type": "markdown",
   "metadata": {},
   "source": [
    "#### Actually opening the file\n",
    "\n",
    "To open a compressed file we'll import the gzip library, which is in the standard python distribution. We'll then read off the header line (which we know is chr21), and then make a variable that concatenates all of the sequence. "
   ]
  },
  {
   "cell_type": "code",
   "execution_count": 3,
   "metadata": {},
   "outputs": [],
   "source": [
    "import gzip # use the gzip library in our project\n",
    "\n",
    "chromosome_21_sequence = \"\" # this variable stores our chromsome 21 sequence\n",
    "\n",
    "with gzip.open('chr21.fa.gz', 'rt') as chromosome_file: # adjust this path to the chromosome 21 if you've saved it somewhere else\n",
    "    \n",
    "    # read the first line, which will be our header \">chr21\"\n",
    "    header = chromosome_file.readline() \n",
    "    \n",
    "    for line in chromosome_file:\n",
    "        # here we'll add each line to our growing chromosome_21_sequence variable\n",
    "        # we use the strip() function to remove the trailing newline, which tells the computer\n",
    "        # to make a new line of text in the file (we don't want it)\n",
    "        chromosome_21_sequence += line.strip() "
   ]
  },
  {
   "cell_type": "markdown",
   "metadata": {},
   "source": [
    "#### Genome length\n",
    "\n",
    "We now have chromosome 21 as a variable in our notebook. First thing we want is a function to figure out it's length. This is a bit contrived, but\n",
    "you'll make a very basic function to return the length of the sequence we read. I've provided the basic scaffold (dont change the name) but you'll \n",
    "need to fill in the very minimal details:"
   ]
  },
  {
   "cell_type": "code",
   "execution_count": 4,
   "metadata": {},
   "outputs": [],
   "source": [
    "def genome_length(genome_as_a_string):\n",
    "    '''\n",
    "    This is a multiline comment (specified with the three single quotes above and below). This function take one\n",
    "    parameter, the genome as a string, and returns the length of the genome as an integer value. Please fix it!\n",
    "    '''\n",
    "    return(len(genome_as_a_string)) # FIX ME\n",
    "\n"
   ]
  },
  {
   "cell_type": "code",
   "execution_count": 5,
   "metadata": {},
   "outputs": [],
   "source": [
    "# you can check that your function that returns the right length for chromesome 21\n",
    "assert genome_length(chromosome_21_sequence) == 46709983, \"Incorrect length returned!\""
   ]
  },
  {
   "cell_type": "markdown",
   "metadata": {},
   "source": [
    "### GC content \n",
    "\n",
    "Now we need a function that takes a genome nucleotide string and returns the GC content. Help fill in this function \n",
    "with a for loop that counts the total GCs, and returns the GCs/(total length)"
   ]
  },
  {
   "cell_type": "code",
   "execution_count": 14,
   "metadata": {},
   "outputs": [],
   "source": [
    "def gc_content(genome_as_a_string):\n",
    "    '''\n",
    "    This function iterates over the genome string, counting Gs and Cs, and returns the GC ratio of a string of nucleotides (from 0.0 to 1.0)\n",
    "    '''\n",
    "    if len(genome_as_a_string) > 0:\n",
    "        # we're going to assume (which is wrong) that every base is either CG or not. For instance Ns could be either, but we'll ignore that\n",
    "        # depending on how you handle that, or how you count (counting CGs vs counting ATs), this could change the results of this function a lot\n",
    "        # regardless I accepted any reasonable approach here\n",
    "        return(sum([1 if x == 'C' or x == 'G' else 0 for x in genome_as_a_string.upper()])/len(genome_as_a_string))\n",
    "    else:\n",
    "        return 0\n"
   ]
  },
  {
   "cell_type": "code",
   "execution_count": 10,
   "metadata": {},
   "outputs": [
    {
     "data": {
      "text/plain": [
       "0.5"
      ]
     },
     "execution_count": 10,
     "metadata": {},
     "output_type": "execute_result"
    }
   ],
   "source": [
    "# a quick sanity check for your code before running the chr21\n",
    "gc_content(\"ACGT\")"
   ]
  },
  {
   "cell_type": "code",
   "execution_count": 13,
   "metadata": {},
   "outputs": [
    {
     "data": {
      "text/plain": [
       "0.3513515515516244"
      ]
     },
     "execution_count": 13,
     "metadata": {},
     "output_type": "execute_result"
    }
   ],
   "source": [
    "# this is what I'm interested in:\n",
    "gc_content(chromosome_21_sequence)"
   ]
  },
  {
   "cell_type": "markdown",
   "metadata": {},
   "source": [
    "### brute force string search\n",
    "\n",
    "Here we're going to implement our own brute-force genome search. Like in the slides from class, we'll iterate over\n",
    "every position in the genome, and compare each base in the search string to the genome. You can try to the 'exit\n",
    "early' optimization when you discover a mismatch, though it's not required. \n",
    "\n",
    "If you find matches, return the start positions of each match (zero-based, so zero is the first position in the genome)\n",
    "in a Python list. If you don't find a match, return the integer -1, indicating no match was found, in a one element list,\n",
    "which is currently the default for the function. \n",
    "\n",
    "Don't use built-in Python search methods like index(), especially since we're looking for all matches."
   ]
  },
  {
   "cell_type": "code",
   "execution_count": 19,
   "metadata": {},
   "outputs": [],
   "source": [
    "def find_matches(genome,sequence_to_search_for):\n",
    "    found_positions = []\n",
    "    for i in range(0,len(genome) - (len(sequence_to_search_for) - 1)):\n",
    "        if genome[i:i+len(sequence_to_search_for)] == sequence_to_search_for:\n",
    "            found_positions.append(i)\n",
    "    if len(found_positions) == 0:\n",
    "        return([-1]) # we found no matches\n",
    "    else:\n",
    "        return(found_positions)\n",
    "    "
   ]
  },
  {
   "cell_type": "code",
   "execution_count": 23,
   "metadata": {},
   "outputs": [
    {
     "name": "stdout",
     "output_type": "stream",
     "text": [
      "[0, 4, 8]\n",
      "[-1]\n",
      "[8]\n"
     ]
    }
   ],
   "source": [
    "# a quick sanity check for your find_matches code, though try on subsequences within chr21!\n",
    "print(find_matches(\"ACGTACGTACGT\",\"ACGT\"))\n",
    "print(find_matches(\"AAAAAAAAAAAA\",\"ACGT\"))\n",
    "print(find_matches(\"AAAAAAAAACGT\",\"ACGT\"))"
   ]
  },
  {
   "cell_type": "markdown",
   "metadata": {},
   "source": [
    "## we'll cover the more advanced methods in the following homework. Good luck!"
   ]
  },
  {
   "cell_type": "code",
   "execution_count": null,
   "metadata": {},
   "outputs": [],
   "source": []
  },
  {
   "cell_type": "code",
   "execution_count": null,
   "metadata": {},
   "outputs": [],
   "source": []
  }
 ],
 "metadata": {
  "kernelspec": {
   "display_name": "Python 3",
   "language": "python",
   "name": "python3"
  },
  "language_info": {
   "codemirror_mode": {
    "name": "ipython",
    "version": 3
   },
   "file_extension": ".py",
   "mimetype": "text/x-python",
   "name": "python",
   "nbconvert_exporter": "python",
   "pygments_lexer": "ipython3",
   "version": "3.6.10"
  }
 },
 "nbformat": 4,
 "nbformat_minor": 4
}
