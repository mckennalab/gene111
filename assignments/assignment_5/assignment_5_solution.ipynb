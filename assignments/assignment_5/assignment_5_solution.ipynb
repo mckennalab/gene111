{
 "cells": [
  {
   "cell_type": "markdown",
   "metadata": {},
   "source": [
    "## Assignment 4\n",
    "\n",
    "\n",
    "In this assignment we're going to continue our dynamic programming exercise from class and from homework #4. There we aligned two strings and filling in a DP matrix with the appropriate scores. \n",
    "\n",
    "Here's we're going to load up the scoring matrix from last time (I saved a filled-in copy) and perform the traceback proceedure to get the sequence alignment."
   ]
  },
  {
   "cell_type": "code",
   "execution_count": 1,
   "metadata": {},
   "outputs": [],
   "source": [
    "# helper function\n",
    "def pretty_print_alignment(seq_A, seq_B, dp_matrix):\n",
    "    '''\n",
    "    This function does a lot of justification (ljust and print) to align the sequence and matrix\n",
    "    We can copy-paste this into future code to help debug what our matrix is doing\n",
    "    '''\n",
    "    print(\"\".join([letter_in_B.rjust(6) for letter_in_B in \"-\" + seq_B]))\n",
    "\n",
    "    for row_label, row in zip(\"-\" + seq_A, dp_matrix):\n",
    "        print(row_label + \"\".join([str(mat_value).rjust(6) for mat_value in row]))\n",
    "\n"
   ]
  },
  {
   "cell_type": "markdown",
   "metadata": {},
   "source": [
    "## Setup\n",
    "\n",
    "We need to setup our sequence alignment problem:"
   ]
  },
  {
   "cell_type": "code",
   "execution_count": 2,
   "metadata": {},
   "outputs": [
    {
     "name": "stdout",
     "output_type": "stream",
     "text": [
      "     -     T     G     C     A     T     T     A     A\n",
      "-   0.0 -10.0 -20.0 -30.0 -40.0 -50.0 -60.0 -70.0 -80.0\n",
      "A -10.0  -4.0 -14.0 -24.0 -25.0 -35.0 -45.0 -55.0 -65.0\n",
      "T -20.0  -5.0  -8.0 -18.0 -28.0 -20.0 -30.0 -40.0 -50.0\n",
      "G -30.0 -15.0   0.0 -10.0 -20.0 -30.0 -24.0 -34.0 -44.0\n",
      "C -40.0 -25.0 -10.0   5.0  -5.0 -15.0 -25.0 -28.0 -38.0\n",
      "T -50.0 -35.0 -20.0  -5.0   1.0   0.0 -10.0 -20.0 -30.0\n",
      "T -60.0 -45.0 -30.0 -15.0  -9.0   6.0   5.0  -5.0 -15.0\n",
      "A -70.0 -55.0 -40.0 -25.0 -10.0  -4.0   2.0  10.0   0.0\n"
     ]
    }
   ],
   "source": [
    "import numpy as np\n",
    "# how I saved the final matrix:\n",
    "# np.save(\"Final_matrix.npy\", our_dp_matrix) \n",
    "\n",
    "# load it up\n",
    "our_dp_matrix = np.load(\"Final_matrix.npy\")\n",
    "\n",
    "# ours scores:\n",
    "match_score = 5\n",
    "mismatch_score = -4\n",
    "gap_score = -10\n",
    "\n",
    "# cleanup our sequences\n",
    "sA = \"ATGC-TTA-\".replace(\"-\",\"\")\n",
    "sB = \"-TGCATTAA\".replace(\"-\",\"\")\n",
    "\n",
    "\n",
    "pretty_print_alignment(sA, sB, our_dp_matrix)"
   ]
  },
  {
   "cell_type": "markdown",
   "metadata": {},
   "source": [
    "## Now the exercise\n",
    "\n",
    "Here you'll need to fill in the correct values for all of the comments below to correctly backtrack the alignment"
   ]
  },
  {
   "cell_type": "code",
   "execution_count": 3,
   "metadata": {},
   "outputs": [
    {
     "name": "stdout",
     "output_type": "stream",
     "text": [
      "ATGC-TT-A\n",
      "-TGCATTAA\n"
     ]
    }
   ],
   "source": [
    "irow = our_dp_matrix.shape[0] - 1\n",
    "icol = our_dp_matrix.shape[1] - 1\n",
    "\n",
    "resulting_alignment_A = \"\"\n",
    "resulting_alignment_B = \"\"\n",
    "\n",
    "m = our_dp_matrix # rename to make slide compact\n",
    "\n",
    "while irow > 0 and icol > 0:\n",
    "    mm_score = match_score if sA[irow - 1] == sB[icol - 1] else mismatch_score\n",
    "        \n",
    "    if m[irow,icol] == m[irow - 1,icol - 1] + mm_score:\n",
    "        resulting_alignment_A += sA[irow - 1]\n",
    "        resulting_alignment_B += sB[icol - 1]\n",
    "        irow -= 1\n",
    "        icol -= 1\n",
    "    elif m[irow,icol] == m[irow,icol - 1] + gap_score:\n",
    "        resulting_alignment_A += \"-\"\n",
    "        resulting_alignment_B += sB[icol - 1]\n",
    "        icol -= 1\n",
    "    elif m[irow,icol] == m[irow - 1,icol] + gap_score:\n",
    "        resulting_alignment_A += sA[irow - 1]\n",
    "        resulting_alignment_B += \"-\"\n",
    "        irow -= 1  \n",
    "    else:\n",
    "        raise NameError(\"We couldn't find the source!!!\")\n",
    "\n",
    "while irow > 0:\n",
    "    resulting_alignment_A += sA[irow - 1]\n",
    "    resulting_alignment_B += \"-\"\n",
    "    irow -= 1\n",
    "    \n",
    "while icol > 0:\n",
    "    resulting_alignment_A += \"-\"\n",
    "    resulting_alignment_B += sB[icol - 1]\n",
    "    icol -= 1\n",
    "    \n",
    "# The full global alignment\n",
    "print(resulting_alignment_A[::-1]) # explain syntax..\n",
    "print(resulting_alignment_B[::-1]) # [start:stop:step]"
   ]
  }
 ],
 "metadata": {
  "kernelspec": {
   "display_name": "Python 3",
   "language": "python",
   "name": "python3"
  },
  "language_info": {
   "codemirror_mode": {
    "name": "ipython",
    "version": 3
   },
   "file_extension": ".py",
   "mimetype": "text/x-python",
   "name": "python",
   "nbconvert_exporter": "python",
   "pygments_lexer": "ipython3",
   "version": "3.6.10"
  }
 },
 "nbformat": 4,
 "nbformat_minor": 4
}
